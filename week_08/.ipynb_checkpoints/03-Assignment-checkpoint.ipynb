{
 "cells": [
  {
   "cell_type": "markdown",
   "id": "0",
   "metadata": {},
   "source": [
    "# Assignment 08\n",
    "\n",
    "*Due date: 28.05.2025*\n",
    "\n",
    "This week's assignment has to be returned **in the form a jupyter notebook**. \n",
    "\n",
    "Don't forget the [instructions](../assignments)!"
   ]
  },
  {
   "cell_type": "markdown",
   "id": "1",
   "metadata": {},
   "source": [
    "## 01 - Data preparation"
   ]
  },
  {
   "cell_type": "markdown",
   "id": "2",
   "metadata": {},
   "source": [
    "Rewrite the `geosphere_meteo_data` function we used in [week 05](../week_05/04-Assignment) to return a pandas dataframe instead of individual arrays. When creating the dataframe, rename the column as follows:\n",
    "- \"RR\" -> \"rainfall\" (invalid: < 0)\n",
    "- \"DD\" -> \"wind_dir\" (invalid: < 0)\n",
    "- \"FF\" -> \"wind_speed\" (invalid: < 0)\n",
    "- \"TP\" -> \"dewpoint\" (invalid: < -50)\n",
    "- \"P\" -> \"pressure\" (invalid: < 500)\n",
    "- \"TL\" -> \"temperature\" (invalid: < -50)\n",
    "- \"SO\" -> \"sunshine_min\" (invalid: < 0)\n",
    "- \"RF\" -> \"relative_humidity\" (invalid: < 0)\n",
    "\n",
    "\n",
    "Replace **all values which are below the invalid threshold in the list above with `np.nan`**.\n",
    "\n",
    "\n",
    "```python\n",
    "import doctest\n",
    "from urllib.request import Request, urlopen\n",
    "from datetime import datetime, timedelta\n",
    "import json\n",
    "\n",
    "def geosphere_meteo_data(station=\"11320\", parameters=[\"TL\", \"FF\", \"RR\"], ndays=3):\n",
    "    \"\"\"\n",
    "    Fetch live meteorological data from Geosphere server.\n",
    "\n",
    "    Parameters\n",
    "    ----------\n",
    "    station : str, optional\n",
    "        Station: \"11803\" for Innsbruck, \"17301\" for Obergurgl). Default is \"11803\".\n",
    "        \n",
    "    parameters : list of str, optional\n",
    "        List of weather parameters to retrieve. Default is [\"TL\", \"RR\"].\n",
    "        Available parameters:\n",
    "        - \"RR\" : \"rainfall\"\n",
    "        - \"DD\" : \"wind_dir\"\n",
    "        - \"FF\" : \"wind_speed\"\n",
    "        - \"TP\" : \"dewpoint\"\n",
    "        - \"P\" : \"pressure\"\n",
    "        - \"TL\" : \"temperature\"\n",
    "        - \"SO\" : \"sunshine_min\"\n",
    "        - \"RF\" : \"relative_humidity\"\n",
    "        \n",
    "    ndays : int, optional\n",
    "        Number of days to retrieve data for. Default is 3 days.\n",
    "\n",
    "    Returns\n",
    "    -------\n",
    "    pd.DataFrame\n",
    "        DataFrame containing the meteorological data.\n",
    "\n",
    "    Examples\n",
    "    --------\n",
    "    >>> df = geosphere_meteo_data()\n",
    "    >>> isinstance(df, pd.DataFrame)\n",
    "    True\n",
    "    >>> isinstance(df.index, pd.DatetimeIndex)\n",
    "    True\n",
    "    >>> df['temperature'].dtype == np.float64\n",
    "    True\n",
    "    \"\"\"\n",
    "\n",
    "    # Calculate date range for the query\n",
    "    end_date = datetime.now().strftime(\"%Y-%m-%d\")\n",
    "    start_date = (datetime.now() - timedelta(days=ndays)).strftime(\"%Y-%m-%d\")\n",
    "\n",
    "    # Create query URL\n",
    "    param_str = \"%2C\".join(parameters)\n",
    "    url = (f'https://dataset.api.hub.geosphere.at/v1/station/historical/tawes-v1-10min?'\n",
    "           f'parameters={param_str}&start={start_date}T00%3A00&end={end_date}T00%3A00&'\n",
    "           f'station_ids={station}&output_format=geojson')\n",
    "\n",
    "    req = urlopen(Request(url)).read()\n",
    "    data = json.loads(req.decode('utf-8'))\n",
    "    \n",
    "    # Convert the time    \n",
    "    time = np.array([datetime.fromisoformat(ds[:-6]) for ds in data['timestamps']])\n",
    "    \n",
    "    df = pd.DataFrame(index=pd.to_datetime(time))\n",
    "\n",
    "    <your code here>\n",
    "     \n",
    "```"
   ]
  },
  {
   "cell_type": "code",
   "execution_count": 8,
   "id": "8a5cf6ea-a81c-4485-8d84-b0ba4f25cb28",
   "metadata": {},
   "outputs": [],
   "source": [
    "import numpy as np\n",
    "import pandas as pd\n",
    "import matplotlib.pyplot as plt"
   ]
  },
  {
   "cell_type": "code",
   "execution_count": 5,
   "id": "74303ef5-1cd6-4382-a174-3cb368d13dd7",
   "metadata": {},
   "outputs": [],
   "source": [
    "#your code here\n"
   ]
  },
  {
   "cell_type": "code",
   "execution_count": 6,
   "id": "5",
   "metadata": {},
   "outputs": [
    {
     "data": {
      "text/plain": [
       "TestResults(failed=0, attempted=4)"
      ]
     },
     "execution_count": 6,
     "metadata": {},
     "output_type": "execute_result"
    }
   ],
   "source": [
    "import doctest\n",
    "doctest.testmod()"
   ]
  },
  {
   "cell_type": "markdown",
   "id": "6",
   "metadata": {},
   "source": [
    "## 02 - Wind"
   ]
  },
  {
   "cell_type": "markdown",
   "id": "7",
   "metadata": {},
   "source": [
    "**1. write a new function called `sd_to_uv` which accept two arrays as input (or equivalent): wind speed and wind direction, and which converts the values into u and v, the vector components of the wind**.\n",
    "\n",
    "```python\n",
    "def sd_to_uv(speed, direction):\n",
    "    \"\"\"Converts wind speed and direction to (u, v) vector components.\n",
    "\n",
    "    Parameters\n",
    "    ----------\n",
    "    speed : ndarray-like\n",
    "        wind speed in m/s\n",
    "    direction : ndarray-like\n",
    "        wind direction in degrees, meteorological convention (0° = North)\n",
    "\n",
    "    Returns\n",
    "    -------\n",
    "    (u, v) : wind u and v vector components (unit: m/s)\n",
    "\n",
    "    Examples\n",
    "    --------\n",
    "    >>> from numpy.testing import assert_allclose\n",
    "    >>> assert_allclose(sd_to_uv(1, 90), [-1, 0], atol=1e-7)\n",
    "    >>> assert_allclose(sd_to_uv(0, 234), [0., 0.], atol=1e-7)\n",
    "    >>> u, v = sd_to_uv([1, 1, 1], [0, 90, 180])\n",
    "    >>> assert_allclose(u, [0, -1, 0], atol=1e-7)\n",
    "    >>> assert_allclose(v, [-1, 0, 1], atol=1e-7)\n",
    "    \"\"\"\n",
    "    <your code here>\n",
    "```\n",
    "\n",
    "\n",
    "**2. write another function called `uv_to_sd` which does the conversion in the other direction**.\n",
    "\n",
    "\n",
    "```python\n",
    "def uv_to_sd(u, v):\n",
    "    \"\"\"Converts (u, v) wind vector components to wind speed and direction.\n",
    "\n",
    "    Parameters\n",
    "    ----------\n",
    "    u : ndarray-like\n",
    "        u-component of the wind speed in m/s\n",
    "    v : ndarray-like\n",
    "        v-component of the wind speed in m/s\n",
    "\n",
    "    Returns\n",
    "    -------\n",
    "    (speed, direction) : wind speed (unit: m/s) and direction (° in the meterological convention)\n",
    "\n",
    "    Examples\n",
    "    --------\n",
    "    >>> from numpy.testing import assert_allclose\n",
    "    >>> assert_allclose(uv_to_sd(1, 1), [2**0.5, 225])\n",
    "    >>> assert_allclose(uv_to_sd(-1, -1), [2**0.5, 45])\n",
    "    >>> u, v = sd_to_uv([1, 2], [90, 235])\n",
    "    >>> s, d = uv_to_sd(u, v)  # round trip\n",
    "    >>> assert_allclose(s, [1, 2])\n",
    "    >>> assert_allclose(d, [90, 235])\n",
    "    \"\"\"\n",
    "    <your code here>\n",
    "```\n",
    "\n",
    "[This webpage](http://colaweb.gmu.edu/dev/clim301/lectures/wind/wind-uv) contains all the info you need to compute this conversion. Don't forget to run the tests!\n",
    "\n",
    "In order to help you out with one particular aspect, here is a useful function that I recommend to apply in your code:"
   ]
  },
  {
   "cell_type": "code",
   "execution_count": null,
   "id": "8",
   "metadata": {},
   "outputs": [],
   "source": [
    "def check_wind_dir(direction):\n",
    "    \"\"\"Makes sure that a wind direction value is comprised between 0 and 360°.\n",
    "\n",
    "    Parameters\n",
    "    ----------\n",
    "    direction : ndarray-like\n",
    "        wind direction in degrees, in the range [-360; +720]\n",
    "\n",
    "    Returns\n",
    "    -------\n",
    "    direction : the direction, mapped to the [0; 360[ range.\n",
    "\n",
    "    Examples\n",
    "    --------\n",
    "    >>> int(check_wind_dir(0))\n",
    "    0\n",
    "    >>> int(check_wind_dir(360))\n",
    "    0\n",
    "    >>> print(check_wind_dir([-180, 90, 420]))\n",
    "    [180  90  60]\n",
    "    \"\"\"\n",
    "    direction = np.asanyarray(direction)\n",
    "    if np.any(direction < -360):\n",
    "        raise ValueError(\"Invalid wind direction value\")\n",
    "    return np.fmod(direction + 360, 360)\n",
    "\n",
    "\n",
    "doctest.testmod()"
   ]
  },
  {
   "cell_type": "code",
   "execution_count": null,
   "id": "9",
   "metadata": {},
   "outputs": [],
   "source": [
    "# Your answer here"
   ]
  },
  {
   "cell_type": "code",
   "execution_count": null,
   "id": "10",
   "metadata": {},
   "outputs": [],
   "source": [
    "doctest.testmod()"
   ]
  },
  {
   "cell_type": "markdown",
   "id": "11",
   "metadata": {},
   "source": [
    "**3. use the `sd_to_uv` functions to add two columns to the Innsbruck dataframe: `u_wind` and `v_wind`**. Tip: this is very easy to do and does not require any complicated pandas function! Start by noticing that `sd_to_uv` and `uv_to_sd` return numpy arrays regardless of the type of the input (even with `pd.Series`), and then remember that numpy arrays can be added as columns to a `pd.DataFrame`.\n",
    "\n",
    "**4. now compute the average statistics of wind for the 3 days period (average speed, average direction), by noting that wind speed is best averaged from the original data, and that wind direction is best averaged in vector space and converted back to trigonometry space. Compare the differences between the \"naive\" average and the \"more correct\" one.**"
   ]
  },
  {
   "cell_type": "code",
   "execution_count": null,
   "id": "12",
   "metadata": {},
   "outputs": [],
   "source": [
    "# Your answer here"
   ]
  },
  {
   "cell_type": "markdown",
   "id": "13",
   "metadata": {},
   "source": [
    "## 03 - Station comparison"
   ]
  },
  {
   "cell_type": "markdown",
   "id": "14",
   "metadata": {},
   "source": [
    "**For the two stations `'innsbruck', 'obergurgl'`, parse the data and put all temperature variables in a single merged dataframe looking like this**:\n",
    "\n",
    "```\n",
    "                     innsbruck  obergurgl\n",
    "2023-05-10 16:10:00       11.4        2.2\n",
    "2023-05-10 16:20:00       11.6        2.0\n",
    "2023-05-10 16:30:00       11.6        1.9\n",
    "2023-05-10 16:40:00       11.4        1.9\n",
    "2023-05-10 16:50:00       11.4        1.8\n",
    "```\n",
    "\n",
    "Then, **plot them all together in a single plot with legend**.\n",
    "\n",
    "Which station recorded the warmest temperature over the period? How do their standard deviations compare with each other? "
   ]
  },
  {
   "cell_type": "code",
   "execution_count": null,
   "id": "15",
   "metadata": {},
   "outputs": [],
   "source": [
    "# Your answer here"
   ]
  },
  {
   "cell_type": "code",
   "execution_count": null,
   "id": "16",
   "metadata": {},
   "outputs": [],
   "source": []
  }
 ],
 "metadata": {
  "kernelspec": {
   "display_name": "Python 3 (ipykernel)",
   "language": "python",
   "name": "python3"
  },
  "language_info": {
   "codemirror_mode": {
    "name": "ipython",
    "version": 3
   },
   "file_extension": ".py",
   "mimetype": "text/x-python",
   "name": "python",
   "nbconvert_exporter": "python",
   "pygments_lexer": "ipython3",
   "version": "3.13.1"
  }
 },
 "nbformat": 4,
 "nbformat_minor": 5
}
