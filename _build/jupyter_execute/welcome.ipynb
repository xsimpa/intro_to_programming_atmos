{
 "cells": [
  {
   "cell_type": "markdown",
   "metadata": {},
   "source": [
    "# Welcome"
   ]
  },
  {
   "cell_type": "markdown",
   "metadata": {},
   "source": [
    "```{figure} img/logo_uibk.png\n",
    "---\n",
    "figclass: margin\n",
    "align: right\n",
    "width: 200px\n",
    "---\n",
    "```\n",
    "```{figure} img/logo_acinn.png\n",
    "---\n",
    "figclass: margin\n",
    "align: right\n",
    "width: 200px\n",
    "---\n",
    "```\n",
    "\n",
    "Lecture notes of the bachelor lecture [Introduction to Programming for the Atmospheric Sciences](https://lfuonline.uibk.ac.at/public/lfuonline_lv.details?sem_id_in=25S&lvnr_id_in=707638&sprache_in=en), taught to 2nd semester students following a [Bachelor in Atmospheric Sciences](https://www.uibk.ac.at/en/acinn/studies/bachelor-in-atmospheric-sciences/) curriculum from the Department of Atmospheric and Cryospheric Sciences ([ACINN](https://www.uibk.ac.at/acinn)) at the University of Innsbruck.\n",
    "\n",
    "This lecture is tailored for a 15 weeks-long class (about 12 weekly units), but these notes might also be of interest to other (geo-)scientists wanting to learn programming fundamentals. **Welcome to you all!**\n",
    "\n",
    "\n",
    "![](img/logo_welcome.jpg)"
   ]
  },
  {
   "cell_type": "markdown",
   "metadata": {},
   "source": [
    "```{note}\n",
    "👨‍🏫 [Patric Simões Pereira](https://quaternary.uibk.ac.at/People/Staff/Simoes-Pereira.aspx) created this class based on the lecture notes of [Fabien Maussion](http://fabienmaussion.info/) from Summer 2023. This content will remain online for the foreseable future, and I hope it will be useful to you. Enjoy!\n",
    "\n",
    "If you find errors, broken links, etc. Please report it [on Github](https://github.com/xsimpa/intro_to_programming_atmos).\n",
    "```"
   ]
  },
  {
   "cell_type": "markdown",
   "metadata": {},
   "source": [
    "**Author**"
   ]
  },
  {
   "cell_type": "markdown",
   "metadata": {},
   "source": [
    "```{figure} img/me.jpg\n",
    "---\n",
    "#figclass: margin\n",
    "align: left\n",
    "height: 150px\n",
    "---\n",
    "```\n",
    "\n",
    "-  [Patric Simões Pereira](https://quaternary.uibk.ac.at/People/Staff/Simoes-Pereira.aspx) joined the [Institute of Geology](https://www.uibk.ac.at/en/geologie/) at the University of Innsbruck as a paleoclimatologist and isotope geochemist in 2023. His primary research interests includes Antarctic paleoclimate and ice-sheet history, geochronology, and Earth surface processes. He currently serves as the lab manager of the new high-precision mass spectrometry laboratory for U-Th geochronology at the University of Innsbruck."
   ]
  },
  {
   "cell_type": "code",
   "execution_count": null,
   "metadata": {},
   "outputs": [],
   "source": []
  }
 ],
 "metadata": {
  "hide_input": false,
  "kernelspec": {
   "display_name": "Python 3 (ipykernel)",
   "language": "python",
   "name": "python3"
  },
  "language_info": {
   "codemirror_mode": {
    "name": "ipython",
    "version": 3
   },
   "file_extension": ".py",
   "mimetype": "text/x-python",
   "name": "python",
   "nbconvert_exporter": "python",
   "pygments_lexer": "ipython3",
   "version": "3.13.1"
  },
  "latex_envs": {
   "LaTeX_envs_menu_present": true,
   "autoclose": false,
   "autocomplete": true,
   "bibliofile": "biblio.bib",
   "cite_by": "apalike",
   "current_citInitial": 1,
   "eqLabelWithNumbers": true,
   "eqNumInitial": 1,
   "hotkeys": {
    "equation": "Ctrl-E",
    "itemize": "Ctrl-I"
   },
   "labels_anchors": false,
   "latex_user_defs": false,
   "report_style_numbering": false,
   "user_envs_cfg": false
  },
  "nbTranslate": {
   "displayLangs": [
    "*"
   ],
   "hotkey": "alt-t",
   "langInMainMenu": true,
   "sourceLang": "en",
   "targetLang": "fr",
   "useGoogleTranslate": true
  },
  "toc": {
   "base_numbering": 1,
   "nav_menu": {},
   "number_sections": false,
   "sideBar": true,
   "skip_h1_title": false,
   "title_cell": "Table of Contents",
   "title_sidebar": "Contents",
   "toc_cell": false,
   "toc_position": {},
   "toc_section_display": "block",
   "toc_window_display": true
  }
 },
 "nbformat": 4,
 "nbformat_minor": 4
}